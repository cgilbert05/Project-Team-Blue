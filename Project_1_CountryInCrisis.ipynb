{
 "cells": [
  {
   "cell_type": "code",
   "execution_count": 4,
   "metadata": {},
   "outputs": [],
   "source": [
    "# import dependencies\n",
    "import pandas as pd\n",
    "import numpy as np\n"
   ]
  },
  {
   "cell_type": "code",
   "execution_count": 12,
   "metadata": {},
   "outputs": [
    {
     "name": "stdout",
     "output_type": "stream",
     "text": [
      "   State         range  rate number\n",
      "0     AL  16.1 to 18.5  16.2    756\n",
      "1     AK  16.1 to 18.5  16.8    128\n",
      "2     AZ  18.6 to 21.0  20.3  1,382\n",
      "3     AR  13.6 to 16.0  14.0    401\n",
      "4     CA  11.1 to 13.5  11.2  4,654\n",
      "5     CO  16.1 to 18.5  16.6    942\n",
      "6     CT  21.1 to 52.0  27.4    971\n",
      "7     DE  21.1 to 52.0  30.8    282\n",
      "8     DC  21.1 to 52.0  38.8    269\n",
      "9     FL  21.1 to 52.0  23.7  4,728\n",
      "10    GA  11.1 to 13.5  13.3  1,394\n",
      "11    HI  11.1 to 13.5  12.8    191\n",
      "12    ID  13.6 to 16.0  15.2    243\n",
      "13    IL  18.6 to 21.0  18.9  2,411\n",
      "14    IN  21.1 to 52.0  24.0  1,526\n",
      "15    IA   6.9 to 11.0  10.6    314\n",
      "16    KS  11.1 to 13.5  11.1    313\n",
      "17    KY  21.1 to 52.0  33.5  1,419\n",
      "18    LA  21.1 to 52.0  21.8    996\n",
      "19    ME  21.1 to 52.0  28.7    353\n",
      "20    MD  21.1 to 52.0  33.2  2,044\n",
      "21    MA  21.1 to 52.0  33.0  2,227\n",
      "22    MI  21.1 to 52.0  24.4  2,347\n",
      "23    MN  11.1 to 13.5  12.5    672\n",
      "24    MS  11.1 to 13.5  12.1    352\n",
      "25    MO  21.1 to 52.0  23.6  1,371\n",
      "26    MT  11.1 to 13.5  11.7    119\n",
      "27    NE   6.9 to 11.0   6.4    120\n",
      "28    NV  21.1 to 52.0  21.7    665\n",
      "29    NH  21.1 to 52.0  39.0    481\n",
      "30    NJ  21.1 to 52.0  23.2  2,056\n",
      "31    NM  21.1 to 52.0  25.2    500\n",
      "32    NY  16.1 to 18.5  18.0  3,638\n",
      "33    NC  18.6 to 21.0  19.7  1,956\n",
      "34    ND   6.9 to 11.0  10.6     77\n",
      "35    OH  21.1 to 52.0  39.1  4,329\n",
      "36    OK  21.1 to 52.0  21.5    813\n",
      "37    OR  11.1 to 13.5  11.9    506\n",
      "38    PA  21.1 to 52.0  37.9  4,627\n",
      "39    RI  21.1 to 52.0  30.8    326\n",
      "40    SC  16.1 to 18.5  18.1    879\n",
      "41    SD   6.9 to 11.0   8.4     69\n",
      "42    TN  21.1 to 52.0  24.5  1,630\n",
      "43    TX   6.9 to 11.0  10.1  2,831\n",
      "44    UT  21.1 to 52.0  22.4    635\n",
      "45    VT  21.1 to 52.0  22.2    125\n",
      "46    VA  16.1 to 18.5  16.7  1,405\n",
      "47    WA  13.6 to 16.0  14.5  1,102\n",
      "48    WV  21.1 to 52.0  52.0    884\n",
      "49    WI  18.6 to 21.0  19.3  1,074\n",
      "50    WY  16.1 to 18.5  17.6     99\n"
     ]
    }
   ],
   "source": [
    "# import source data files\n",
    "\n",
    "# deaths_2013_2014 = pd.read_csv(\"raw_data/OD_2013_2014.csv\")\n",
    "\n",
    "deaths_2013_2014 = pd.read_csv(\"raw_data/OD_2013_2014.csv\")\n",
    "deaths_2015 = pd.read_csv(\"raw_data/OD_2015.csv\")\n",
    "deaths_2016 = pd.read_csv(\"raw_data/OD_2016.csv\")\n",
    "deaths_2017 = pd.read_csv(\"raw_data/OD_2017.csv\")\n",
    "\n",
    "# import population data\n",
    "population2010_2017 = pd.read_csv(\"raw_data/Pop_2013-2017.csv\")\n",
    "\n",
    "# import perscription data\n",
    "rx_2013 = pd.read_csv(\"raw_data/RX_2013.csv\")\n",
    "rx_2014 = pd.read_csv(\"raw_data/RX_2014.csv\")\n",
    "rx_2015 = pd.read_csv(\"raw_data/RX_2015.csv\")\n",
    "rx_2016 = pd.read_csv(\"raw_data/RX_2016.csv\")\n",
    "rx_2017 = pd.read_csv(\"raw_data/RX_2017.csv\")\n",
    "\n",
    "print(deaths_2016)"
   ]
  },
  {
   "cell_type": "code",
   "execution_count": 7,
   "metadata": {},
   "outputs": [],
   "source": [
    "# assign data to variables\n",
    "\n"
   ]
  },
  {
   "cell_type": "code",
   "execution_count": null,
   "metadata": {},
   "outputs": [],
   "source": []
  },
  {
   "cell_type": "code",
   "execution_count": null,
   "metadata": {},
   "outputs": [],
   "source": []
  }
 ],
 "metadata": {
  "kernelspec": {
   "display_name": "Python [conda env:pythondata]",
   "language": "python",
   "name": "conda-env-pythondata-py"
  },
  "language_info": {
   "codemirror_mode": {
    "name": "ipython",
    "version": 3
   },
   "file_extension": ".py",
   "mimetype": "text/x-python",
   "name": "python",
   "nbconvert_exporter": "python",
   "pygments_lexer": "ipython3",
   "version": "3.6.8"
  }
 },
 "nbformat": 4,
 "nbformat_minor": 2
}
