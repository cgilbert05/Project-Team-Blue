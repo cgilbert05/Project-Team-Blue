{
 "cells": [
  {
   "cell_type": "code",
   "execution_count": 7,
   "metadata": {},
   "outputs": [],
   "source": [
    "# import dependencies\n",
    "%matplotlib notebook\n",
    "import pandas as pd\n",
    "import numpy as np\n",
    "import scipy.stats as stats\n",
    "import matplotlib.pyplot as plt\n",
    "\n"
   ]
  },
  {
   "cell_type": "code",
   "execution_count": 6,
   "metadata": {},
   "outputs": [],
   "source": [
    "# import source data files\n",
    "\n",
    "# deaths_2013_2014 = pd.read_csv(\"raw_data/OD_2013_2014.csv\")\n",
    "\n",
    "deaths_2013_2014 = pd.read_csv(\"raw_data/OD_2013_2014.csv\")\n",
    "deaths_2015 = pd.read_csv(\"raw_data/OD_2015.csv\")\n",
    "deaths_2016 = pd.read_csv(\"raw_data/OD_2016.csv\")\n",
    "deaths_2017 = pd.read_csv(\"raw_data/OD_2017.csv\")\n",
    "\n",
    "# import population data\n",
    "population2010_2017 = pd.read_csv(\"raw_data/Pop_2013-2017.csv\")\n",
    "\n",
    "# import perscription data\n",
    "rx_2013 = pd.read_csv(\"raw_data/RX_2013.csv\")\n",
    "rx_2014 = pd.read_csv(\"raw_data/RX_2014.csv\")\n",
    "rx_2015 = pd.read_csv(\"raw_data/RX_2015.csv\")\n",
    "rx_2016 = pd.read_csv(\"raw_data/RX_2016.csv\")\n",
    "rx_2017 = pd.read_csv(\"raw_data/RX_2017.csv\")\n"
   ]
  },
  {
   "cell_type": "code",
   "execution_count": 17,
   "metadata": {},
   "outputs": [
    {
     "name": "stdout",
     "output_type": "stream",
     "text": [
      "   level_0  index                 State State ABBR  2016 Prescribing Rate\n",
      "0        3      7           Connecticut         CT                   48.0\n",
      "1        4      8              Delaware         DE                   68.3\n",
      "2        5      9  District of Columbia         DC                   28.5\n",
      "3        6     10               Florida         FL                   60.9\n",
      "4        7     11               Georgia         GA                   70.9\n"
     ]
    }
   ],
   "source": [
    "# change rx_2016 and rx_2017 columns to match that of previous years' column names\n",
    "rx_2016 = rx_2016.drop([0], axis=0).reset_index(drop=True)\n",
    "\n",
    "# preview rx and populations by state\n",
    "# print(rx_2013.head())\n",
    "# print(rx_2014.head())\n",
    "# print(rx_2015.head())\n",
    "print(rx_2016.head())\n",
    "# print(rx_2017.head())\n",
    "# print(population2010_2017.head())\n",
    "\n"
   ]
  },
  {
   "cell_type": "code",
   "execution_count": 5,
   "metadata": {},
   "outputs": [
    {
     "name": "stdout",
     "output_type": "stream",
     "text": [
      "  State  2014Rate 2014Number    2014Range  2013Rate 2013Number    2013Range  \\\n",
      "0    ND       6.3         43  6.3 to 11.0       2.8         20  2.8 to 11.0   \n",
      "1    NE       7.2        125  6.3 to 11.0       6.5        117  2.8 to 11.0   \n",
      "2    SD       7.8         63  6.3 to 11.0       6.9         55  2.8 to 11.0   \n",
      "3    IA       8.8        264  6.3 to 11.0       9.3        275  2.8 to 11.0   \n",
      "4    TX       9.7      2,601  6.3 to 11.0       9.3      2,446  2.8 to 11.0   \n",
      "\n",
      "   Change      Significant  \n",
      "0   125.0     Significant   \n",
      "1    10.8  Not Significant  \n",
      "2    13.0  Not Significant  \n",
      "3    -5.4  Not Significant  \n",
      "4     4.3  Not Significant  \n",
      "  State         Range  Rate Number\n",
      "0    AL  13.6 to 16.0  15.7    736\n",
      "1    AK  13.6 to 16.0  16.0    122\n",
      "2    AZ  18.6 to 21.0  19.0  1,274\n",
      "3    AR  13.6 to 16.0  13.8    392\n",
      "4    CA  11.1 to 13.5  11.3  4,659\n",
      "  State         range  rate number\n",
      "0    AL  16.1 to 18.5  16.2    756\n",
      "1    AK  16.1 to 18.5  16.8    128\n",
      "2    AZ  18.6 to 21.0  20.3  1,382\n",
      "3    AR  13.6 to 16.0  14.0    401\n",
      "4    CA  11.1 to 13.5  11.2  4,654\n",
      "  State         range  rate number\n",
      "0    AL  16.1 to 18.5  18.0    835\n",
      "1    AK  18.6 to 21.0  20.2    147\n",
      "2    AZ  21.1 to 57.0  22.2  1,532\n",
      "3    AR  13.6 to 16.0  15.5    446\n",
      "4    CA  11.1 to 13.5  11.7  4,868\n"
     ]
    }
   ],
   "source": [
    "# preview deaths by state \n",
    "print(deaths_2013_2014.head())\n",
    "print(deaths_2015.head())\n",
    "print(deaths_2016.head())\n",
    "print(deaths_2017.head())\n",
    "\n",
    "\n"
   ]
  },
  {
   "cell_type": "code",
   "execution_count": null,
   "metadata": {},
   "outputs": [],
   "source": [
    "# merge rx dataframes\n",
    "rx_df = rx_2013.merge(rx_2014).merge(rx_2015).merge(rx_2016).merge(rx_2017)\n",
    "\n",
    "\n"
   ]
  },
  {
   "cell_type": "code",
   "execution_count": null,
   "metadata": {},
   "outputs": [],
   "source": []
  }
 ],
 "metadata": {
  "kernelspec": {
   "display_name": "Python [conda env:pythondata]",
   "language": "python",
   "name": "conda-env-pythondata-py"
  },
  "language_info": {
   "codemirror_mode": {
    "name": "ipython",
    "version": 3
   },
   "file_extension": ".py",
   "mimetype": "text/x-python",
   "name": "python",
   "nbconvert_exporter": "python",
   "pygments_lexer": "ipython3",
   "version": "3.6.8"
  }
 },
 "nbformat": 4,
 "nbformat_minor": 2
}
