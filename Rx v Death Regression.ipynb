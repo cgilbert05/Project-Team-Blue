{
 "cells": [
  {
   "cell_type": "code",
   "execution_count": 1,
   "metadata": {},
   "outputs": [],
   "source": [
    "# import dependencies\n",
    "%matplotlib notebook\n",
    "import pandas as pd\n",
    "import numpy as np\n",
    "import scipy.stats as stats\n",
    "import matplotlib.pyplot as plt"
   ]
  },
  {
   "cell_type": "code",
   "execution_count": 3,
   "metadata": {},
   "outputs": [
    {
     "data": {
      "text/html": [
       "<div>\n",
       "<style scoped>\n",
       "    .dataframe tbody tr th:only-of-type {\n",
       "        vertical-align: middle;\n",
       "    }\n",
       "\n",
       "    .dataframe tbody tr th {\n",
       "        vertical-align: top;\n",
       "    }\n",
       "\n",
       "    .dataframe thead th {\n",
       "        text-align: right;\n",
       "    }\n",
       "</style>\n",
       "<table border=\"1\" class=\"dataframe\">\n",
       "  <thead>\n",
       "    <tr style=\"text-align: right;\">\n",
       "      <th></th>\n",
       "      <th>State</th>\n",
       "      <th>Region</th>\n",
       "      <th>2013_Pop</th>\n",
       "      <th>2013_RX_rate</th>\n",
       "      <th>2013Deaths</th>\n",
       "      <th>2014_Pop</th>\n",
       "      <th>2014_RX_rate</th>\n",
       "      <th>2014Deaths</th>\n",
       "      <th>2015_Pop</th>\n",
       "      <th>2015_RX_rate</th>\n",
       "      <th>2015Deaths</th>\n",
       "      <th>2016_Pop</th>\n",
       "      <th>2016_RX_rate</th>\n",
       "      <th>2016Deaths</th>\n",
       "      <th>2017_Pop</th>\n",
       "      <th>2017_RX_rate</th>\n",
       "      <th>2017Deaths</th>\n",
       "    </tr>\n",
       "  </thead>\n",
       "  <tbody>\n",
       "    <tr>\n",
       "      <th>0</th>\n",
       "      <td>AL</td>\n",
       "      <td>Southeast</td>\n",
       "      <td>4827660</td>\n",
       "      <td>142.4</td>\n",
       "      <td>12.39</td>\n",
       "      <td>4840037</td>\n",
       "      <td>135.2</td>\n",
       "      <td>14.94</td>\n",
       "      <td>4850858</td>\n",
       "      <td>125.0</td>\n",
       "      <td>15.17</td>\n",
       "      <td>4860545</td>\n",
       "      <td>121.0</td>\n",
       "      <td>15.55</td>\n",
       "      <td>4874747</td>\n",
       "      <td>107.2</td>\n",
       "      <td>17.13</td>\n",
       "    </tr>\n",
       "    <tr>\n",
       "      <th>1</th>\n",
       "      <td>AK</td>\n",
       "      <td>Far West</td>\n",
       "      <td>736760</td>\n",
       "      <td>63.7</td>\n",
       "      <td>14.25</td>\n",
       "      <td>736759</td>\n",
       "      <td>62.7</td>\n",
       "      <td>16.83</td>\n",
       "      <td>737979</td>\n",
       "      <td>60.8</td>\n",
       "      <td>16.53</td>\n",
       "      <td>741522</td>\n",
       "      <td>58.9</td>\n",
       "      <td>17.26</td>\n",
       "      <td>739795</td>\n",
       "      <td>52.0</td>\n",
       "      <td>19.87</td>\n",
       "    </tr>\n",
       "    <tr>\n",
       "      <th>2</th>\n",
       "      <td>AZ</td>\n",
       "      <td>Southwest</td>\n",
       "      <td>6616124</td>\n",
       "      <td>80.4</td>\n",
       "      <td>18.47</td>\n",
       "      <td>6706435</td>\n",
       "      <td>79.7</td>\n",
       "      <td>18.06</td>\n",
       "      <td>6802262</td>\n",
       "      <td>75.5</td>\n",
       "      <td>18.73</td>\n",
       "      <td>6908642</td>\n",
       "      <td>70.2</td>\n",
       "      <td>20.00</td>\n",
       "      <td>7016270</td>\n",
       "      <td>61.2</td>\n",
       "      <td>21.83</td>\n",
       "    </tr>\n",
       "    <tr>\n",
       "      <th>3</th>\n",
       "      <td>AR</td>\n",
       "      <td>Southeast</td>\n",
       "      <td>2956780</td>\n",
       "      <td>120.9</td>\n",
       "      <td>10.79</td>\n",
       "      <td>2964800</td>\n",
       "      <td>123.2</td>\n",
       "      <td>12.01</td>\n",
       "      <td>2975626</td>\n",
       "      <td>117.2</td>\n",
       "      <td>13.17</td>\n",
       "      <td>2988231</td>\n",
       "      <td>114.6</td>\n",
       "      <td>13.42</td>\n",
       "      <td>3004279</td>\n",
       "      <td>105.4</td>\n",
       "      <td>14.85</td>\n",
       "    </tr>\n",
       "    <tr>\n",
       "      <th>4</th>\n",
       "      <td>CA</td>\n",
       "      <td>Far West</td>\n",
       "      <td>38347383</td>\n",
       "      <td>54.4</td>\n",
       "      <td>11.61</td>\n",
       "      <td>38701278</td>\n",
       "      <td>52.7</td>\n",
       "      <td>11.68</td>\n",
       "      <td>39032444</td>\n",
       "      <td>47.7</td>\n",
       "      <td>11.94</td>\n",
       "      <td>39296476</td>\n",
       "      <td>44.8</td>\n",
       "      <td>11.84</td>\n",
       "      <td>39536653</td>\n",
       "      <td>39.5</td>\n",
       "      <td>12.31</td>\n",
       "    </tr>\n",
       "  </tbody>\n",
       "</table>\n",
       "</div>"
      ],
      "text/plain": [
       "  State     Region  2013_Pop  2013_RX_rate  2013Deaths  2014_Pop  \\\n",
       "0    AL  Southeast   4827660         142.4       12.39   4840037   \n",
       "1    AK   Far West    736760          63.7       14.25    736759   \n",
       "2    AZ  Southwest   6616124          80.4       18.47   6706435   \n",
       "3    AR  Southeast   2956780         120.9       10.79   2964800   \n",
       "4    CA   Far West  38347383          54.4       11.61  38701278   \n",
       "\n",
       "   2014_RX_rate  2014Deaths  2015_Pop  2015_RX_rate  2015Deaths  2016_Pop  \\\n",
       "0         135.2       14.94   4850858         125.0       15.17   4860545   \n",
       "1          62.7       16.83    737979          60.8       16.53    741522   \n",
       "2          79.7       18.06   6802262          75.5       18.73   6908642   \n",
       "3         123.2       12.01   2975626         117.2       13.17   2988231   \n",
       "4          52.7       11.68  39032444          47.7       11.94  39296476   \n",
       "\n",
       "   2016_RX_rate  2016Deaths  2017_Pop  2017_RX_rate  2017Deaths  \n",
       "0         121.0       15.55   4874747         107.2       17.13  \n",
       "1          58.9       17.26    739795          52.0       19.87  \n",
       "2          70.2       20.00   7016270          61.2       21.83  \n",
       "3         114.6       13.42   3004279         105.4       14.85  \n",
       "4          44.8       11.84  39536653          39.5       12.31  "
      ]
     },
     "execution_count": 3,
     "metadata": {},
     "output_type": "execute_result"
    }
   ],
   "source": [
    "# import source data files\n",
    "rx_v_deaths = pd.read_csv(\"Master_DF2.csv\")\n",
    "rx_v_deaths.head()"
   ]
  },
  {
   "cell_type": "code",
   "execution_count": 13,
   "metadata": {},
   "outputs": [],
   "source": [
    "# Average of deaths each year\n",
    "mean_deaths_2013 = rx_v_deaths[\"2013Deaths\"].mean()\n",
    "mean_deaths_2014 = rx_v_deaths[\"2014Deaths\"].mean()\n",
    "mean_deaths_2015 = rx_v_deaths[\"2015Deaths\"].mean()\n",
    "mean_deaths_2016 = rx_v_deaths[\"2016Deaths\"].mean()\n",
    "mean_deaths_2017 = rx_v_deaths[\"2017Deaths\"].mean()\n",
    "\n",
    "# Averge prescription rates each year\n",
    "mean_rx_2013 = rx_v_deaths[\"2013_RX_rate\"].mean()\n",
    "mean_rx_2014 = rx_v_deaths[\"2014_RX_rate\"].mean()\n",
    "mean_rx_2015 = rx_v_deaths[\"2015_RX_rate\"].mean()\n",
    "mean_rx_2016 = rx_v_deaths[\"2016_RX_rate\"].mean()\n",
    "mean_rx_2017 = rx_v_deaths[\"2017_RX_rate\"].mean()"
   ]
  },
  {
   "cell_type": "code",
   "execution_count": 42,
   "metadata": {
    "scrolled": true
   },
   "outputs": [
    {
     "data": {
      "image/png": "[encoded data removed]",
      "text/plain": [
       "<Figure size 432x288 with 1 Axes>"
      ]
     },
     "metadata": {
      "needs_background": "light"
     },
     "output_type": "display_data"
    }
   ],
   "source": [
    "avg_death = [mean_deaths_2013, mean_deaths_2014, mean_deaths_2015, mean_deaths_2016, mean_deaths_2017]\n",
    "avg_rx = [mean_rx_2013, mean_rx_2014, mean_rx_2015, mean_rx_2016, mean_rx_2017]\n",
    "time = [2013, 2014, 2015, 2016, 2017]\n",
    "avg_death_data = plt.plot(time, avg_death, color=\"red\", label=\"Death rates\")\n",
    "avg_rx_data = plt.plot(time, avg_rx, color = \"blue\", label=\"Prescription rates\")\n",
    "\n",
    "plt.title(\"Average Death v Average Prescription Rates\")\n",
    "plt.xlabel(\"Year\")\n",
    "plt.ylabel(\"Rates\")\n",
    "\n",
    "plt.xlim(2013,2017)\n",
    "plt.ylim(0,100)\n",
    "\n",
    "plt.grid()\n",
    "plt.show()"
   ]
  },
  {
   "cell_type": "code",
   "execution_count": 43,
   "metadata": {},
   "outputs": [],
   "source": [
    "from scipy.interpolate import *\n",
    "from numpy import *"
   ]
  },
  {
   "cell_type": "code",
   "execution_count": 44,
   "metadata": {},
   "outputs": [
    {
     "name": "stdout",
     "output_type": "stream",
     "text": [
      "[ 2.03325490e+00 -4.07875051e+03]\n",
      "[-5.14274510e+00  1.04371427e+04]\n"
     ]
    }
   ],
   "source": [
    "fit_death = polyfit(time, avg_death, 1)\n",
    "fit_rx = polyfit(time, avg_rx, 1)\n",
    "# slope and intercept of each\n",
    "print(fit_death)\n",
    "print(fit_rx)"
   ]
  },
  {
   "cell_type": "code",
   "execution_count": 46,
   "metadata": {},
   "outputs": [],
   "source": [
    "%matplotlib inline\n",
    "from matplotlib.pyplot import *"
   ]
  },
  {
   "cell_type": "code",
   "execution_count": 50,
   "metadata": {},
   "outputs": [
    {
     "data": {
      "image/png": "[encoded data removed]",
      "text/plain": [
       "<Figure size 432x288 with 1 Axes>"
      ]
     },
     "metadata": {
      "needs_background": "light"
     },
     "output_type": "display_data"
    }
   ],
   "source": [
    "avg_death = [mean_deaths_2013, mean_deaths_2014, mean_deaths_2015, mean_deaths_2016, mean_deaths_2017]\n",
    "avg_rx = [mean_rx_2013, mean_rx_2014, mean_rx_2015, mean_rx_2016, mean_rx_2017]\n",
    "time = [2013, 2014, 2015, 2016, 2017]\n",
    "avg_death_data = plt.plot(time, avg_death, color=\"red\", label=\"Death rates\")\n",
    "avg_rx_data = plt.plot(time, avg_rx, color = \"blue\", label=\"Prescription rates\")\n",
    "\n",
    "plot(time, polyval(fit_death,time))\n",
    "plot(time, polyval(fit_rx,time))\n",
    "\n",
    "plt.title(\"Average Death v Average Prescription Rates\")\n",
    "plt.xlabel(\"Year\")\n",
    "plt.ylabel(\"Rates\")\n",
    "\n",
    "plt.xlim(2013,2017)\n",
    "plt.ylim(0,100)\n",
    "\n",
    "plt.grid()\n",
    "plt.show()"
   ]
  },
  {
   "cell_type": "code",
   "execution_count": 10,
   "metadata": {},
   "outputs": [],
   "source": [
    "southeast = rx_v_deaths[rx_v_deaths.Region == 'Southeast'].reset_index(drop=True)\n",
    "southwest = rx_v_deaths[rx_v_deaths.Region == 'Southwest'].reset_index(drop=True)\n",
    "farwest = rx_v_deaths[rx_v_deaths.Region == 'Far West'].reset_index(drop=True)\n",
    "rockmount = rx_v_deaths[rx_v_deaths.Region == 'Rocky Mountain'].reset_index(drop=True)\n",
    "plains = rx_v_deaths[rx_v_deaths.Region == 'Plains'].reset_index(drop=True)\n",
    "greatlakes = rx_v_deaths[rx_v_deaths.Region == 'Great Lakes'].reset_index(drop=True)\n",
    "mideast = rx_v_deaths[rx_v_deaths.Region == 'Mideast'].reset_index(drop=True)\n",
    "newengland = rx_v_deaths[rx_v_deaths.Region == 'New England'].reset_index(drop=True)"
   ]
  },
  {
   "cell_type": "code",
   "execution_count": 12,
   "metadata": {},
   "outputs": [],
   "source": [
    "# Sum of deaths\n",
    "se_mean_deaths_2013 = southeast[\"2013Deaths\"].mean()\n",
    "se_mean_deaths_2014 = southeast[\"2014Deaths\"].mean()\n",
    "se_mean_deaths_2015 = southeast[\"2015Deaths\"].mean()\n",
    "se_mean_deaths_2016 = southeast[\"2016Deaths\"].mean()\n",
    "se_mean_deaths_2017 = southeast[\"2017Deaths\"].mean()"
   ]
  },
  {
   "cell_type": "code",
   "execution_count": null,
   "metadata": {},
   "outputs": [],
   "source": []
  },
  {
   "cell_type": "code",
   "execution_count": null,
   "metadata": {},
   "outputs": [],
   "source": []
  },
  {
   "cell_type": "code",
   "execution_count": null,
   "metadata": {},
   "outputs": [],
   "source": []
  },
  {
   "cell_type": "code",
   "execution_count": null,
   "metadata": {},
   "outputs": [],
   "source": []
  },
  {
   "cell_type": "code",
   "execution_count": null,
   "metadata": {},
   "outputs": [],
   "source": []
  },
  {
   "cell_type": "code",
   "execution_count": null,
   "metadata": {},
   "outputs": [],
   "source": []
  }
 ],
 "metadata": {
  "kernelspec": {
   "display_name": "Python 3",
   "language": "python",
   "name": "python3"
  },
  "language_info": {
   "codemirror_mode": {
    "name": "ipython",
    "version": 3
   },
   "file_extension": ".py",
   "mimetype": "text/x-python",
   "name": "python",
   "nbconvert_exporter": "python",
   "pygments_lexer": "ipython3",
   "version": "3.7.3"
  }
 },
 "nbformat": 4,
 "nbformat_minor": 2
}
